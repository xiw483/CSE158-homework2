{
 "cells": [
  {
   "cell_type": "code",
   "execution_count": 216,
   "metadata": {},
   "outputs": [],
   "source": [
    "import pandas as pd\n",
    "import numpy as np\n",
    "import json\n",
    "import matplotlib.pyplot as plt\n",
    "import networkx as nx\n",
    "\n",
    "pd.set_option('display.max_columns', None)\n",
    "\n",
    "from sklearn.model_selection import train_test_split\n",
    "from sklearn.linear_model import LogisticRegression\n",
    "from sklearn.metrics import confusion_matrix\n",
    "from sklearn.pipeline import Pipeline\n",
    "\n",
    "from networkx.algorithms.components import number_connected_components\n",
    "from networkx.algorithms.cuts import normalized_cut_size"
   ]
  },
  {
   "cell_type": "markdown",
   "metadata": {},
   "source": [
    "# Tasks - Diagnostics:\n",
    "- We’ll start by building a classifier that predicts whether a beer is highly alcoholic (ABV greater than 7 percent).\n",
    "- First, randomly shuffle the data and split it into 50%/50% train/test fractions."
   ]
  },
  {
   "cell_type": "code",
   "execution_count": 100,
   "metadata": {},
   "outputs": [
    {
     "data": {
      "text/html": [
       "<div>\n",
       "<style scoped>\n",
       "    .dataframe tbody tr th:only-of-type {\n",
       "        vertical-align: middle;\n",
       "    }\n",
       "\n",
       "    .dataframe tbody tr th {\n",
       "        vertical-align: top;\n",
       "    }\n",
       "\n",
       "    .dataframe thead th {\n",
       "        text-align: right;\n",
       "    }\n",
       "</style>\n",
       "<table border=\"1\" class=\"dataframe\">\n",
       "  <thead>\n",
       "    <tr style=\"text-align: right;\">\n",
       "      <th></th>\n",
       "      <th>review/appearance</th>\n",
       "      <th>beer/style</th>\n",
       "      <th>review/palate</th>\n",
       "      <th>review/taste</th>\n",
       "      <th>beer/name</th>\n",
       "      <th>review/timeUnix</th>\n",
       "      <th>beer/ABV</th>\n",
       "      <th>beer/beerId</th>\n",
       "      <th>beer/brewerId</th>\n",
       "      <th>review/timeStruct</th>\n",
       "      <th>review/overall</th>\n",
       "      <th>review/text</th>\n",
       "      <th>user/profileName</th>\n",
       "      <th>review/aroma</th>\n",
       "      <th>user/gender</th>\n",
       "      <th>user/birthdayRaw</th>\n",
       "      <th>user/birthdayUnix</th>\n",
       "      <th>user/ageInSeconds</th>\n",
       "    </tr>\n",
       "  </thead>\n",
       "  <tbody>\n",
       "    <tr>\n",
       "      <th>0</th>\n",
       "      <td>2.5</td>\n",
       "      <td>Hefeweizen</td>\n",
       "      <td>1.5</td>\n",
       "      <td>1.5</td>\n",
       "      <td>Sausa Weizen</td>\n",
       "      <td>1234817823</td>\n",
       "      <td>5.0</td>\n",
       "      <td>47986</td>\n",
       "      <td>10325</td>\n",
       "      <td>{'isdst': 0, 'mday': 16, 'hour': 20, 'min': 57...</td>\n",
       "      <td>1.5</td>\n",
       "      <td>A lot of foam. But a lot.\\tIn the smell some b...</td>\n",
       "      <td>stcules</td>\n",
       "      <td>2.0</td>\n",
       "      <td>NaN</td>\n",
       "      <td>NaN</td>\n",
       "      <td>NaN</td>\n",
       "      <td>NaN</td>\n",
       "    </tr>\n",
       "  </tbody>\n",
       "</table>\n",
       "</div>"
      ],
      "text/plain": [
       "   review/appearance  beer/style  review/palate  review/taste     beer/name  \\\n",
       "0                2.5  Hefeweizen            1.5           1.5  Sausa Weizen   \n",
       "\n",
       "   review/timeUnix  beer/ABV beer/beerId beer/brewerId  \\\n",
       "0       1234817823       5.0       47986         10325   \n",
       "\n",
       "                                   review/timeStruct  review/overall  \\\n",
       "0  {'isdst': 0, 'mday': 16, 'hour': 20, 'min': 57...             1.5   \n",
       "\n",
       "                                         review/text user/profileName  \\\n",
       "0  A lot of foam. But a lot.\\tIn the smell some b...          stcules   \n",
       "\n",
       "   review/aroma user/gender user/birthdayRaw  user/birthdayUnix  \\\n",
       "0           2.0         NaN              NaN                NaN   \n",
       "\n",
       "   user/ageInSeconds  \n",
       "0                NaN  "
      ]
     },
     "execution_count": 100,
     "metadata": {},
     "output_type": "execute_result"
    }
   ],
   "source": [
    "#Load beer dataset\n",
    "def parseData(fname):\n",
    "    for l in open(fname):\n",
    "        yield eval(l)\n",
    "        \n",
    "beer = list(parseData(\"data/beer_50000.json\"))\n",
    "beer = pd.DataFrame(beer)\n",
    "beer.head(1)"
   ]
  },
  {
   "cell_type": "markdown",
   "metadata": {},
   "source": [
    "## Problem 1\n",
    "- We’ll use the style of the beer to predict its ABV. \n",
    "- Construct a one-hot encoding of the beer style, for those categories that appear in more than 1,000 reviews."
   ]
  },
  {
   "cell_type": "code",
   "execution_count": 101,
   "metadata": {},
   "outputs": [],
   "source": [
    "#Filtering beer style categoreis more frequent than 1000 reviews.\n",
    "beer_style_l = list(beer['beer/style'].value_counts(dropna=False)[beer['beer/style'].value_counts()>1000].index)"
   ]
  },
  {
   "cell_type": "code",
   "execution_count": 102,
   "metadata": {},
   "outputs": [
    {
     "data": {
      "text/html": [
       "<div>\n",
       "<style scoped>\n",
       "    .dataframe tbody tr th:only-of-type {\n",
       "        vertical-align: middle;\n",
       "    }\n",
       "\n",
       "    .dataframe tbody tr th {\n",
       "        vertical-align: top;\n",
       "    }\n",
       "\n",
       "    .dataframe thead th {\n",
       "        text-align: right;\n",
       "    }\n",
       "</style>\n",
       "<table border=\"1\" class=\"dataframe\">\n",
       "  <thead>\n",
       "    <tr style=\"text-align: right;\">\n",
       "      <th></th>\n",
       "      <th>review/appearance</th>\n",
       "      <th>beer/style</th>\n",
       "      <th>review/palate</th>\n",
       "      <th>review/taste</th>\n",
       "      <th>beer/name</th>\n",
       "      <th>review/timeUnix</th>\n",
       "      <th>beer/ABV</th>\n",
       "      <th>beer/beerId</th>\n",
       "      <th>beer/brewerId</th>\n",
       "      <th>review/timeStruct</th>\n",
       "      <th>review/overall</th>\n",
       "      <th>review/text</th>\n",
       "      <th>user/profileName</th>\n",
       "      <th>review/aroma</th>\n",
       "      <th>user/gender</th>\n",
       "      <th>user/birthdayRaw</th>\n",
       "      <th>user/birthdayUnix</th>\n",
       "      <th>user/ageInSeconds</th>\n",
       "      <th>American Double / Imperial Stout</th>\n",
       "      <th>American IPA</th>\n",
       "      <th>American Double / Imperial IPA</th>\n",
       "      <th>Scotch Ale / Wee Heavy</th>\n",
       "      <th>Russian Imperial Stout</th>\n",
       "      <th>American Pale Ale (APA)</th>\n",
       "      <th>American Porter</th>\n",
       "      <th>Rauchbier</th>\n",
       "      <th>Rye Beer</th>\n",
       "      <th>Czech Pilsener</th>\n",
       "      <th>Fruit / Vegetable Beer</th>\n",
       "      <th>English Pale Ale</th>\n",
       "      <th>Old Ale</th>\n",
       "    </tr>\n",
       "  </thead>\n",
       "  <tbody>\n",
       "    <tr>\n",
       "      <th>0</th>\n",
       "      <td>2.5</td>\n",
       "      <td>Hefeweizen</td>\n",
       "      <td>1.5</td>\n",
       "      <td>1.5</td>\n",
       "      <td>Sausa Weizen</td>\n",
       "      <td>1234817823</td>\n",
       "      <td>5.0</td>\n",
       "      <td>47986</td>\n",
       "      <td>10325</td>\n",
       "      <td>{'isdst': 0, 'mday': 16, 'hour': 20, 'min': 57...</td>\n",
       "      <td>1.5</td>\n",
       "      <td>A lot of foam. But a lot.\\tIn the smell some b...</td>\n",
       "      <td>stcules</td>\n",
       "      <td>2.0</td>\n",
       "      <td>NaN</td>\n",
       "      <td>NaN</td>\n",
       "      <td>NaN</td>\n",
       "      <td>NaN</td>\n",
       "      <td>False</td>\n",
       "      <td>False</td>\n",
       "      <td>False</td>\n",
       "      <td>False</td>\n",
       "      <td>False</td>\n",
       "      <td>False</td>\n",
       "      <td>False</td>\n",
       "      <td>False</td>\n",
       "      <td>False</td>\n",
       "      <td>False</td>\n",
       "      <td>False</td>\n",
       "      <td>False</td>\n",
       "      <td>False</td>\n",
       "    </tr>\n",
       "  </tbody>\n",
       "</table>\n",
       "</div>"
      ],
      "text/plain": [
       "   review/appearance  beer/style  review/palate  review/taste     beer/name  \\\n",
       "0                2.5  Hefeweizen            1.5           1.5  Sausa Weizen   \n",
       "\n",
       "   review/timeUnix  beer/ABV beer/beerId beer/brewerId  \\\n",
       "0       1234817823       5.0       47986         10325   \n",
       "\n",
       "                                   review/timeStruct  review/overall  \\\n",
       "0  {'isdst': 0, 'mday': 16, 'hour': 20, 'min': 57...             1.5   \n",
       "\n",
       "                                         review/text user/profileName  \\\n",
       "0  A lot of foam. But a lot.\\tIn the smell some b...          stcules   \n",
       "\n",
       "   review/aroma user/gender user/birthdayRaw  user/birthdayUnix  \\\n",
       "0           2.0         NaN              NaN                NaN   \n",
       "\n",
       "   user/ageInSeconds  American Double / Imperial Stout  American IPA  \\\n",
       "0                NaN                             False         False   \n",
       "\n",
       "   American Double / Imperial IPA  Scotch Ale / Wee Heavy  \\\n",
       "0                           False                   False   \n",
       "\n",
       "   Russian Imperial Stout  American Pale Ale (APA)  American Porter  \\\n",
       "0                   False                    False            False   \n",
       "\n",
       "   Rauchbier  Rye Beer  Czech Pilsener  Fruit / Vegetable Beer  \\\n",
       "0      False     False           False                   False   \n",
       "\n",
       "   English Pale Ale  Old Ale  \n",
       "0             False    False  "
      ]
     },
     "execution_count": 102,
     "metadata": {},
     "output_type": "execute_result"
    }
   ],
   "source": [
    "#One-hot-Econding beer styles.\n",
    "for i in beer_style_l:\n",
    "    beer[i] = beer['beer/style'] == i\n",
    "beer.head(1)"
   ]
  },
  {
   "cell_type": "markdown",
   "metadata": {},
   "source": [
    "- Train a logistic regressor using this one-hot encoding to predict whether beers have an ABV greater than 7 percent (i.e., d[’beer/ABV’] > 7). \n",
    "- Train the classifier on the training set and report its performance in terms of the accuracy and Balanced Error Rate (BER) on the test set, using a regularization constant of C = 10. \n",
    "- For all experiments use the class weight=’balanced’ option "
   ]
  },
  {
   "cell_type": "code",
   "execution_count": 103,
   "metadata": {},
   "outputs": [],
   "source": [
    "#Creating the parameter abv_gt_7: true if beer/ABV > 7 false otherwise\n",
    "beer['abv_gt_7'] = beer['beer/ABV'] > 7"
   ]
  },
  {
   "cell_type": "code",
   "execution_count": 104,
   "metadata": {},
   "outputs": [],
   "source": [
    "#Train-Test-Split\n",
    "X = beer[beer_style_l]\n",
    "y = beer['abv_gt_7']\n",
    "\n",
    "X_train, X_test, y_train, y_test = train_test_split(X, y, test_size=0.5, random_state=1)"
   ]
  },
  {
   "cell_type": "code",
   "execution_count": 105,
   "metadata": {},
   "outputs": [
    {
     "data": {
      "text/plain": [
       "LogisticRegression(C=10, class_weight='balanced')"
      ]
     },
     "execution_count": 105,
     "metadata": {},
     "output_type": "execute_result"
    }
   ],
   "source": [
    "#Fit the Model\n",
    "logreg = LogisticRegression(C=10, class_weight='balanced')\n",
    "logreg.fit(X_train, y_train)"
   ]
  },
  {
   "cell_type": "code",
   "execution_count": 106,
   "metadata": {},
   "outputs": [
    {
     "name": "stdout",
     "output_type": "stream",
     "text": [
      "Accuracy of logistic regression classifier on the test set: 0.84996\n"
     ]
    }
   ],
   "source": [
    "#Find the accuracy of the model on the test data\n",
    "y_pred = logreg.predict(X_test)\n",
    "print('Accuracy of logistic regression classifier on the test set: '+ str(logreg.score(X_test, y_test)))"
   ]
  },
  {
   "cell_type": "code",
   "execution_count": 107,
   "metadata": {},
   "outputs": [
    {
     "name": "stdout",
     "output_type": "stream",
     "text": [
      "Balanced Error Rate: 0.15950823088547797\n"
     ]
    }
   ],
   "source": [
    "#Find the Balanced Error Rate of the model on the test data.\n",
    "cm = confusion_matrix(y_test, y_pred)\n",
    "ber = 0.5*((cm[0][1]/(cm[0][0]+cm[0][1]))+(cm[1][0]/(cm[1][0]+cm[1][1])))\n",
    "print(\"Balanced Error Rate: \" + str(ber))"
   ]
  },
  {
   "cell_type": "markdown",
   "metadata": {},
   "source": [
    "## Problem 2\n",
    "- Extend your model to include two additional features: (1) a vector of five ratings (review/aroma, review/overall, etc.); and (2) the review length (in characters). \n",
    "- The length feature should be scaled to be between 0 and 1 by dividing by the maximum length. \n",
    "- Using the same value of C from the previous question, report the BER of the new classifier"
   ]
  },
  {
   "cell_type": "code",
   "execution_count": 108,
   "metadata": {},
   "outputs": [],
   "source": [
    "#Feature engineer parameter revieww_length\n",
    "beer['review_length'] = [len(x) for x in beer['review/text'].str.split()]\n",
    "beer['review_length'] /= max(beer['review_length'])"
   ]
  },
  {
   "cell_type": "code",
   "execution_count": 109,
   "metadata": {},
   "outputs": [
    {
     "data": {
      "text/plain": [
       "Index(['review/appearance', 'beer/style', 'review/palate', 'review/taste',\n",
       "       'beer/name', 'review/timeUnix', 'beer/ABV', 'beer/beerId',\n",
       "       'beer/brewerId', 'review/timeStruct', 'review/overall', 'review/text',\n",
       "       'user/profileName', 'review/aroma', 'user/gender', 'user/birthdayRaw',\n",
       "       'user/birthdayUnix', 'user/ageInSeconds',\n",
       "       'American Double / Imperial Stout', 'American IPA',\n",
       "       'American Double / Imperial IPA', 'Scotch Ale / Wee Heavy',\n",
       "       'Russian Imperial Stout', 'American Pale Ale (APA)', 'American Porter',\n",
       "       'Rauchbier', 'Rye Beer', 'Czech Pilsener', 'Fruit / Vegetable Beer',\n",
       "       'English Pale Ale', 'Old Ale', 'abv_gt_7', 'review_length'],\n",
       "      dtype='object')"
      ]
     },
     "execution_count": 109,
     "metadata": {},
     "output_type": "execute_result"
    }
   ],
   "source": [
    "beer.columns"
   ]
  },
  {
   "cell_type": "code",
   "execution_count": 110,
   "metadata": {},
   "outputs": [],
   "source": [
    "#Feature selection\n",
    "col = beer_style_l +['review/appearance', 'review/palate', 'review/taste', 'review/overall', 'review/aroma', 'review_length']"
   ]
  },
  {
   "cell_type": "code",
   "execution_count": 111,
   "metadata": {},
   "outputs": [],
   "source": [
    "#Train-Test-Split\n",
    "X = beer[col]\n",
    "y = beer['abv_gt_7']\n",
    "\n",
    "X_train, X_test, y_train, y_test = train_test_split(X, y, test_size=0.5, random_state=1)"
   ]
  },
  {
   "cell_type": "code",
   "execution_count": 112,
   "metadata": {},
   "outputs": [
    {
     "data": {
      "text/plain": [
       "LogisticRegression(C=10, class_weight='balanced', max_iter=1000)"
      ]
     },
     "execution_count": 112,
     "metadata": {},
     "output_type": "execute_result"
    }
   ],
   "source": [
    "#Fit the Model\n",
    "logreg = LogisticRegression(C=10, class_weight='balanced',max_iter=1000)\n",
    "logreg.fit(X_train, y_train)"
   ]
  },
  {
   "cell_type": "code",
   "execution_count": 113,
   "metadata": {},
   "outputs": [
    {
     "name": "stdout",
     "output_type": "stream",
     "text": [
      "Accuracy of logistic regression classifier on the test set: 0.86212\n"
     ]
    }
   ],
   "source": [
    "#Find the accuracy of the model on the test data\n",
    "y_pred = logreg.predict(X_test)\n",
    "print('Accuracy of logistic regression classifier on the test set: '+ str(logreg.score(X_test, y_test)))"
   ]
  },
  {
   "cell_type": "code",
   "execution_count": 114,
   "metadata": {},
   "outputs": [
    {
     "name": "stdout",
     "output_type": "stream",
     "text": [
      "Balanced Error Rate: 0.1422613250925131\n"
     ]
    }
   ],
   "source": [
    "#Find the Balanced Error Rate of the model on the test data.\n",
    "cm = confusion_matrix(y_test, y_pred)\n",
    "ber = 0.5*((cm[0][1]/(cm[0][0]+cm[0][1]))+(cm[1][0]/(cm[1][0]+cm[1][1])))\n",
    "print(\"Balanced Error Rate: \" + str(ber))"
   ]
  },
  {
   "cell_type": "markdown",
   "metadata": {},
   "source": [
    "## Problem 3\n",
    "- Implement a complete regularization pipeline with the balanced classifier. \n",
    "- Split your test data from above in half so that you have 50%/25%/25% train/validation/test fractions. Consider values of C in the range {10^−6, 10^−5, 10^−4, 10^−3}.\n",
    "- Report (or plot) the train, validation, and test BER for each value of C. Based on these values, which classifier would you select (in terms of generalization performance) and why."
   ]
  },
  {
   "cell_type": "code",
   "execution_count": 147,
   "metadata": {},
   "outputs": [],
   "source": [
    "#Train-Test-Validation-Split\n",
    "X = beer[col]\n",
    "y = beer['abv_gt_7']\n",
    "\n",
    "X_train, X_test, y_train, y_test = train_test_split(X, y, test_size=0.5, random_state=1)\n",
    "X_train, X_val, y_train, y_val = train_test_split(X_train, y_train, test_size=0.5, random_state=1)"
   ]
  },
  {
   "cell_type": "code",
   "execution_count": 148,
   "metadata": {},
   "outputs": [],
   "source": [
    "#Cross Validation\n",
    "def find_ber(x, y, c):\n",
    "    logreg = LogisticRegression(C=c, class_weight='balanced', max_iter=1000)\n",
    "    logreg.fit(X_train, y_train)\n",
    "    \n",
    "    y_pred = logreg.predict(x)\n",
    "    cm = confusion_matrix(y, y_pred)\n",
    "    ber = 0.5*((cm[0][1]/(cm[0][0]+cm[0][1]))+(cm[1][0]/(cm[1][0]+cm[1][1])))\n",
    "    \n",
    "    return ber\n",
    "\n",
    "\n",
    "train_ber_l = []\n",
    "test_ber_l = []\n",
    "val_ber_l = []\n",
    "\n",
    "c_range = [1e-6, 1e-5, 1e-4, 1e-3]\n",
    "\n",
    "for c in c_range:\n",
    "    train_ber_l.append(find_ber(X_train, y_train,c))\n",
    "    test_ber_l.append(find_ber(X_test,y_test,c))\n",
    "    val_ber_l.append(find_ber(X_val,y_val,c))"
   ]
  },
  {
   "cell_type": "code",
   "execution_count": 149,
   "metadata": {},
   "outputs": [
    {
     "name": "stdout",
     "output_type": "stream",
     "text": [
      "[0.32418952875267754, 0.3232863733728786, 0.3142319059976932, 0.23776646688087]\n",
      "[0.31353128599342034, 0.31323323090170563, 0.30290010489865693, 0.23092492561203143]\n",
      "[0.3190482228677, 0.3186307293963302, 0.3093905063241834, 0.2348309055670827]\n"
     ]
    }
   ],
   "source": [
    "#List of computed BER (4 in each set, 12 total)\n",
    "print(train_ber_l)\n",
    "print(test_ber_l)\n",
    "print(val_ber_l)"
   ]
  },
  {
   "cell_type": "code",
   "execution_count": 150,
   "metadata": {},
   "outputs": [
    {
     "data": {
      "image/png": "[encoded data removed]",
      "text/plain": [
       "<Figure size 432x288 with 1 Axes>"
      ]
     },
     "metadata": {
      "needs_background": "light"
     },
     "output_type": "display_data"
    }
   ],
   "source": [
    "#Plot the result\n",
    "plt.xlabel('Regularization Constant C')\n",
    "plt.ylabel('Balanced Error Rate')\n",
    "plt.plot(c_range, train_ber_l, label=\"train BER\")\n",
    "plt.plot(c_range, val_ber_l, label=\"validation BER\")\n",
    "plt.plot(c_range, test_ber_l, label=\"test BER\")\n",
    "plt.legend()\n",
    "plt.show()"
   ]
  },
  {
   "cell_type": "markdown",
   "metadata": {},
   "source": [
    "From the graph above, I would select C = 10^-3 because all training set, validation set and test set data shows a negative linear relationship between C and BER. That is to say, the balanced error rate decreases with increasing C. Furthermore, since all three plots show the same trend, we cannot find patterns of overfitting. Therefore, if we want to minimize the BER, we chooses the largest c among the range, which is 10^-3."
   ]
  },
  {
   "cell_type": "markdown",
   "metadata": {},
   "source": [
    "## Problem 4\n",
    "An ablation study measures the marginal benefit of various features by re-training the model with one feature ‘ablated’ (i.e., deleted) at a time. Considering each of the three features in your classifier above (i.e., beer style, ratings, and length), report the BER with only the other two features and the third deleted."
   ]
  },
  {
   "cell_type": "code",
   "execution_count": 151,
   "metadata": {},
   "outputs": [],
   "source": [
    "#Feature selection\n",
    "ratings = ['review/appearance', 'review/palate', 'review/taste', 'review/overall', 'review/aroma']\n",
    "length = ['review_length']"
   ]
  },
  {
   "cell_type": "markdown",
   "metadata": {},
   "source": [
    "### First let's use only beer style and ratings as our features"
   ]
  },
  {
   "cell_type": "code",
   "execution_count": 152,
   "metadata": {},
   "outputs": [],
   "source": [
    "#Train-Test-Validation-Split\n",
    "X = beer[beer_style_l+ratings]\n",
    "y = beer['abv_gt_7']\n",
    "\n",
    "X_train, X_test, y_train, y_test = train_test_split(X, y, test_size=0.5, random_state=1)\n",
    "X_train, X_val, y_train, y_val = train_test_split(X_train, y_train, test_size=0.5, random_state=1)"
   ]
  },
  {
   "cell_type": "code",
   "execution_count": 153,
   "metadata": {},
   "outputs": [],
   "source": [
    "#Find the BER for each c\n",
    "train_ber_l = []\n",
    "test_ber_l = []\n",
    "val_ber_l = []\n",
    "\n",
    "c_range = [1e-6, 1e-5, 1e-4, 1e-3]\n",
    "\n",
    "for c in c_range:\n",
    "    train_ber_l.append(find_ber(X_train, y_train,c))\n",
    "    test_ber_l.append(find_ber(X_test,y_test,c))\n",
    "    val_ber_l.append(find_ber(X_val,y_val,c))"
   ]
  },
  {
   "cell_type": "code",
   "execution_count": 154,
   "metadata": {},
   "outputs": [
    {
     "name": "stdout",
     "output_type": "stream",
     "text": [
      "[0.32459965603888613, 0.32395601623002146, 0.3143807155215027, 0.23753115216674905]\n",
      "[0.3138979245405383, 0.31349106394819326, 0.3032110714050654, 0.23094567127984209]\n",
      "[0.31953176558795054, 0.31889952849989095, 0.30929438911245105, 0.2348309055670827]\n"
     ]
    }
   ],
   "source": [
    "#List of computed BER (4 in each set, 12 total)\n",
    "print(train_ber_l)\n",
    "print(test_ber_l)\n",
    "print(val_ber_l)"
   ]
  },
  {
   "cell_type": "code",
   "execution_count": 155,
   "metadata": {},
   "outputs": [
    {
     "data": {
      "image/png": "[encoded data removed]",
      "text/plain": [
       "<Figure size 432x288 with 1 Axes>"
      ]
     },
     "metadata": {
      "needs_background": "light"
     },
     "output_type": "display_data"
    }
   ],
   "source": [
    "#Plot the result\n",
    "plt.xlabel('Regularization Constant C')\n",
    "plt.ylabel('Balanced Error Rate')\n",
    "plt.plot(c_range, train_ber_l, label=\"train BER\")\n",
    "plt.plot(c_range, val_ber_l, label=\"validation BER\")\n",
    "plt.plot(c_range, test_ber_l, label=\"test BER\")\n",
    "plt.legend()\n",
    "plt.show()"
   ]
  },
  {
   "cell_type": "markdown",
   "metadata": {},
   "source": [
    "### Next let's use only beer style and length as our features"
   ]
  },
  {
   "cell_type": "code",
   "execution_count": 156,
   "metadata": {},
   "outputs": [],
   "source": [
    "#Train-Test-Validation-Split\n",
    "X = beer[beer_style_l+length]\n",
    "y = beer['abv_gt_7']\n",
    "\n",
    "X_train, X_test, y_train, y_test = train_test_split(X, y, test_size=0.5, random_state=1)\n",
    "X_train, X_val, y_train, y_val = train_test_split(X_train, y_train, test_size=0.5, random_state=1)"
   ]
  },
  {
   "cell_type": "code",
   "execution_count": 157,
   "metadata": {},
   "outputs": [],
   "source": [
    "#Find the BER for each c\n",
    "train_ber_l = []\n",
    "test_ber_l = []\n",
    "val_ber_l = []\n",
    "\n",
    "c_range = [1e-6, 1e-5, 1e-4, 1e-3]\n",
    "\n",
    "for c in c_range:\n",
    "    train_ber_l.append(find_ber(X_train, y_train,c))\n",
    "    test_ber_l.append(find_ber(X_test,y_test,c))\n",
    "    val_ber_l.append(find_ber(X_val,y_val,c))"
   ]
  },
  {
   "cell_type": "code",
   "execution_count": 158,
   "metadata": {},
   "outputs": [
    {
     "name": "stdout",
     "output_type": "stream",
     "text": [
      "[0.2687268289668809, 0.1641062675070028, 0.1641062675070028, 0.1641062675070028]\n",
      "[0.26978907433517896, 0.15950823088547797, 0.15950823088547797, 0.15950823088547797]\n",
      "[0.2610092129832204, 0.1637920202994615, 0.1637920202994615, 0.1637920202994615]\n"
     ]
    }
   ],
   "source": [
    "#List of computed BER (4 in each set, 12 total)\n",
    "print(train_ber_l)\n",
    "print(test_ber_l)\n",
    "print(val_ber_l)"
   ]
  },
  {
   "cell_type": "code",
   "execution_count": 159,
   "metadata": {},
   "outputs": [
    {
     "data": {
      "image/png": "[encoded data removed]",
      "text/plain": [
       "<Figure size 432x288 with 1 Axes>"
      ]
     },
     "metadata": {
      "needs_background": "light"
     },
     "output_type": "display_data"
    }
   ],
   "source": [
    "#Plot the result\n",
    "plt.xlabel('Regularization Constant C')\n",
    "plt.ylabel('Balanced Error Rate')\n",
    "plt.plot(c_range, train_ber_l, label=\"train BER\")\n",
    "plt.plot(c_range, val_ber_l, label=\"validation BER\")\n",
    "plt.plot(c_range, test_ber_l, label=\"test BER\")\n",
    "plt.legend()\n",
    "plt.show()"
   ]
  },
  {
   "cell_type": "markdown",
   "metadata": {},
   "source": [
    "### Lastly let's use only ratings and length as our features"
   ]
  },
  {
   "cell_type": "code",
   "execution_count": 160,
   "metadata": {},
   "outputs": [],
   "source": [
    "#Train-Test-Validation-Split\n",
    "X = beer[ratings+length]\n",
    "y = beer['abv_gt_7']\n",
    "\n",
    "X_train, X_test, y_train, y_test = train_test_split(X, y, test_size=0.5, random_state=1)\n",
    "X_train, X_val, y_train, y_val = train_test_split(X_train, y_train, test_size=0.5, random_state=1)"
   ]
  },
  {
   "cell_type": "code",
   "execution_count": 161,
   "metadata": {},
   "outputs": [],
   "source": [
    "#Find the BER for each c\n",
    "train_ber_l = []\n",
    "test_ber_l = []\n",
    "val_ber_l = []\n",
    "\n",
    "c_range = [1e-6, 1e-5, 1e-4, 1e-3]\n",
    "\n",
    "for c in c_range:\n",
    "    train_ber_l.append(find_ber(X_train, y_train,c))\n",
    "    test_ber_l.append(find_ber(X_test,y_test,c))\n",
    "    val_ber_l.append(find_ber(X_val,y_val,c))"
   ]
  },
  {
   "cell_type": "code",
   "execution_count": 162,
   "metadata": {},
   "outputs": [
    {
     "name": "stdout",
     "output_type": "stream",
     "text": [
      "[0.34338492750041194, 0.34343513140550336, 0.3421375535508321, 0.33089754284066564]\n",
      "[0.33525386074596447, 0.3352227422442485, 0.33306015740447686, 0.3226793028692113]\n",
      "[0.34282694230362865, 0.3424424734566991, 0.34093318770103853, 0.3275512216552888]\n"
     ]
    }
   ],
   "source": [
    "#List of computed BER (4 in each set, 12 total)\n",
    "print(train_ber_l)\n",
    "print(test_ber_l)\n",
    "print(val_ber_l)"
   ]
  },
  {
   "cell_type": "code",
   "execution_count": 163,
   "metadata": {},
   "outputs": [
    {
     "data": {
      "image/png": "[encoded data removed]",
      "text/plain": [
       "<Figure size 432x288 with 1 Axes>"
      ]
     },
     "metadata": {
      "needs_background": "light"
     },
     "output_type": "display_data"
    }
   ],
   "source": [
    "#Plot the result\n",
    "plt.xlabel('Regularization Constant C')\n",
    "plt.ylabel('Balanced Error Rate')\n",
    "plt.plot(c_range, train_ber_l, label=\"train BER\")\n",
    "plt.plot(c_range, val_ber_l, label=\"validation BER\")\n",
    "plt.plot(c_range, test_ber_l, label=\"test BER\")\n",
    "plt.legend()\n",
    "plt.show()"
   ]
  },
  {
   "cell_type": "markdown",
   "metadata": {},
   "source": [
    "# Task (Community Detection):\n",
    "Download the Facebook ego-network data."
   ]
  },
  {
   "cell_type": "markdown",
   "metadata": {},
   "source": [
    "## Problem 6\n",
    "- How many connected components are in the graph, and how many nodes are in the largest connected component"
   ]
  },
  {
   "cell_type": "code",
   "execution_count": 181,
   "metadata": {},
   "outputs": [
    {
     "data": {
      "image/png": "[encoded data removed]",
      "text/plain": [
       "<Figure size 432x288 with 1 Axes>"
      ]
     },
     "metadata": {},
     "output_type": "display_data"
    },
    {
     "data": {
      "text/plain": [
       "<Figure size 432x288 with 0 Axes>"
      ]
     },
     "metadata": {},
     "output_type": "display_data"
    }
   ],
   "source": [
    "#Load Data\n",
    "edges = set()\n",
    "nodes = set()\n",
    "for edge in open(\"data/egonet.txt\", 'r'):\n",
    "    x,y = edge.split()\n",
    "    x,y = int(x),int(y)\n",
    "    edges.add((x,y))\n",
    "    edges.add((y,x))\n",
    "    nodes.add(x)\n",
    "    nodes.add(y)\n",
    "\n",
    "G = nx.Graph()\n",
    "for e in edges:\n",
    "    G.add_edge(e[0],e[1])\n",
    "nx.draw(G)\n",
    "plt.show()\n",
    "plt.clf()"
   ]
  },
  {
   "cell_type": "code",
   "execution_count": 184,
   "metadata": {},
   "outputs": [
    {
     "name": "stdout",
     "output_type": "stream",
     "text": [
      "There are 3connected components in the graph.\n"
     ]
    }
   ],
   "source": [
    "print(\"There are \" + str(number_connected_components(G)) + \"connected components in the graph.\")"
   ]
  },
  {
   "cell_type": "code",
   "execution_count": 193,
   "metadata": {},
   "outputs": [
    {
     "name": "stdout",
     "output_type": "stream",
     "text": [
      "There are 40 nodes in the largest connected component.\n"
     ]
    }
   ],
   "source": [
    "print(\"There are \" + str(len(sorted(nx.connected_components(G))[0])) + \" nodes in the largest connected component.\")"
   ]
  },
  {
   "cell_type": "markdown",
   "metadata": {},
   "source": [
    "Next we’ll implement a ‘greedy’ version of normalized cuts, using just the largest connected component found above. First, split it into two equal halves, just by taking the 50% of nodes with the lowest and 50% with the highest IDs."
   ]
  },
  {
   "cell_type": "code",
   "execution_count": 283,
   "metadata": {},
   "outputs": [],
   "source": [
    "#Split into lower half and higher half\n",
    "largest_component = sorted(nx.connected_components(G))[0]\n",
    "half_index = int(len(largest_component)/2)\n",
    "lower_half = sorted(largest_component)[:half_index]\n",
    "higher_half = sorted(largest_component)[half_index:]"
   ]
  },
  {
   "cell_type": "markdown",
   "metadata": {},
   "source": [
    "## Problem 7\n",
    "What is the normalized-cut cost of the 50/50 split you found above."
   ]
  },
  {
   "cell_type": "code",
   "execution_count": 284,
   "metadata": {},
   "outputs": [
    {
     "name": "stdout",
     "output_type": "stream",
     "text": [
      "The normalized-cut cost of the 50/50 split is 0.4224058769513316\n"
     ]
    }
   ],
   "source": [
    "print(\"The normalized-cut cost of the 50/50 split is \" +str(0.5*normalized_cut_size(G, higher_half, lower_half)))"
   ]
  },
  {
   "cell_type": "markdown",
   "metadata": {},
   "source": [
    "Now we’ll implement our greedy algorithm as follows: during each step, we’ll move one node from one cluster to the other, choosing whichever move minimizes the resulting normalized cut cost (in case of a tie, pick the node with the lower ID). Repeat this until the cost can’t be reduced any further."
   ]
  },
  {
   "cell_type": "code",
   "execution_count": 286,
   "metadata": {},
   "outputs": [
    {
     "name": "stdout",
     "output_type": "stream",
     "text": [
      "[769, 772, 774, 800, 803, 804, 805, 810, 811, 819, 823, 825, 697, 828, 830, 703, 708, 840, 713, 719, 856, 729, 861, 863, 864, 869, 745, 747, 876, 878, 880, 753, 882, 884, 886, 888, 889, 890, 893] [798]\n",
      "0.5011389521640092 inf\n",
      "[772, 774, 800, 803, 804, 805, 810, 811, 819, 823, 825, 697, 828, 830, 703, 708, 840, 713, 719, 856, 729, 861, 863, 864, 869, 745, 747, 876, 878, 880, 753, 882, 884, 886, 888, 889, 890, 893] [798, 769]\n",
      "0.43595748513781307 0.5011389521640092\n",
      "[772, 774, 800, 803, 804, 805, 810, 811, 819, 823, 825, 697, 828, 830, 703, 708, 840, 713, 719, 856, 729, 861, 863, 864, 745, 747, 876, 878, 880, 753, 882, 884, 886, 888, 889, 890, 893] [798, 769, 869]\n",
      "0.4125515689461183 0.43595748513781307\n",
      "[772, 774, 800, 803, 804, 805, 810, 811, 819, 823, 825, 697, 828, 830, 703, 708, 840, 713, 719, 856, 729, 861, 863, 864, 745, 747, 876, 878, 880, 753, 882, 884, 886, 888, 889, 893] [798, 769, 869, 890]\n",
      "0.36048192771084336 0.4125515689461183\n",
      "[772, 774, 800, 803, 804, 805, 810, 819, 823, 825, 697, 828, 830, 703, 708, 840, 713, 719, 856, 729, 861, 863, 864, 745, 747, 876, 878, 880, 753, 882, 884, 886, 888, 889, 893] [798, 769, 869, 890, 811]\n",
      "0.30330882352941174 0.36048192771084336\n",
      "[772, 774, 800, 803, 804, 805, 810, 819, 823, 825, 697, 828, 830, 703, 840, 713, 719, 856, 729, 861, 863, 864, 745, 747, 876, 878, 880, 753, 882, 884, 886, 888, 889, 893] [798, 769, 869, 890, 811, 708]\n",
      "0.31003705830158146 0.30330882352941174\n"
     ]
    }
   ],
   "source": [
    "normalized_cut_cost = float('inf')\n",
    "normalized_cut_cost_prev = float('inf')\n",
    "\n",
    "cluster_1 = list(largest_component)\n",
    "cluster_2 = []\n",
    "\n",
    "while normalized_cut_cost <= normalized_cut_cost_prev:\n",
    "    normalized_cut_cost_temp = float('inf')\n",
    "    for n1 in cluster_1:\n",
    "        temp_1 = list(cluster_1)\n",
    "        temp_1.remove(n1)\n",
    "        temp_2 = cluster_2.copy()\n",
    "        temp_2.append(n1)\n",
    "        ncc = 0.5*normalized_cut_size(G, temp_1, temp_2)\n",
    "        if ncc == normalized_cut_cost_temp:\n",
    "            minimizing_node = min(minimizing_node, n1)\n",
    "            normalized_cut_cost_temp = ncc\n",
    "        if ncc < normalized_cut_cost_temp:\n",
    "            minimizing_node = n1\n",
    "            normalized_cut_cost_temp = ncc\n",
    "    cluster_1.remove(minimizing_node)\n",
    "    cluster_2.append(minimizing_node)\n",
    "    \n",
    "    normalized_cut_cost_prev = normalized_cut_cost\n",
    "    normalized_cut_cost = 0.5*normalized_cut_size(G, cluster_1, cluster_2)\n",
    "    \n",
    "    print(cluster_1,cluster_2)\n",
    "    print(normalized_cut_cost, normalized_cut_cost_prev)"
   ]
  },
  {
   "cell_type": "markdown",
   "metadata": {},
   "source": [
    "## Problem 8\n",
    "What are the elements of the split, and what is its normalized cut cost?"
   ]
  },
  {
   "cell_type": "markdown",
   "metadata": {},
   "source": [
    "- Element in cluster 1: [772, 774, 800, 803, 804, 805, 810, 819, 823, 825, 697, 828, 830, 703, 708, 840, 713, 719, 856, 729, 861, 863, 864, 745, 747, 876, 878, 880, 753, 882, 884, 886, 888, 889, 893]\n",
    "- Element in cluster 2: [798, 769, 869, 890, 811]\n",
    "- Normalized cut cost: 0.303."
   ]
  },
  {
   "cell_type": "code",
   "execution_count": null,
   "metadata": {},
   "outputs": [],
   "source": []
  }
 ],
 "metadata": {
  "kernelspec": {
   "display_name": "Python 3",
   "language": "python",
   "name": "python3"
  },
  "language_info": {
   "codemirror_mode": {
    "name": "ipython",
    "version": 3
   },
   "file_extension": ".py",
   "mimetype": "text/x-python",
   "name": "python",
   "nbconvert_exporter": "python",
   "pygments_lexer": "ipython3",
   "version": "3.8.3"
  },
  "toc-autonumbering": true
 },
 "nbformat": 4,
 "nbformat_minor": 4
}
